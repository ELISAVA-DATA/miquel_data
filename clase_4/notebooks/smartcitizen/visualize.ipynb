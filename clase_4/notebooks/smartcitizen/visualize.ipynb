{
 "cells": [
  {
   "cell_type": "markdown",
   "metadata": {},
   "source": [
    "# Visualising data\n",
    "\n",
    "This example shows different types of plots available. Three libraries are used, matplotlib (`plot`), plotly (`iplot`) or uplot (`uplot`)"
   ]
  },
  {
   "cell_type": "code",
   "execution_count": 1,
   "metadata": {},
   "outputs": [
    {
     "name": "stdout",
     "output_type": "stream",
     "text": [
      "No environment file found. If you had an environment file (.env) before, make sure its now here\n",
      "/home/janebeta7/.cache/scdata/.env\n",
      "SC_BEARER not in environment variables. You may get throttled when requesting to api.smartcitizen.me\n"
     ]
    }
   ],
   "source": [
    "from scdata.test import Test\n",
    "from scdata._config import config\n",
    "\n",
    "config.log_level='DEBUG'"
   ]
  },
  {
   "cell_type": "markdown",
   "metadata": {},
   "source": [
    "Load the test from our first example"
   ]
  },
  {
   "cell_type": "code",
   "execution_count": 2,
   "metadata": {
    "scrolled": true
   },
   "outputs": [
    {
     "name": "stdout",
     "output_type": "stream",
     "text": [
      "\u001b[38;20m[2025-01-16 16:34:10,959] - scdata - INFO - Test is new\u001b[0m\n",
      "\u001b[38;20m[2025-01-16 16:34:10,961] - scdata - INFO - Full Name: 2025_01_EXAMPLE\u001b[0m\n",
      "\u001b[38;20m[2025-01-16 16:34:10,962] - scdata - INFO - New test\u001b[0m\n",
      "\u001b[38;20m[2025-01-16 16:34:10,962] - scdata - INFO - Creating new test\u001b[0m\n",
      "\u001b[38;20m[2025-01-16 16:34:10,963] - scdata - INFO - Test creation finished. Name: 2025_01_EXAMPLE\u001b[0m\n",
      "\u001b[38;20m[2025-01-16 16:34:10,964] - scdata - INFO - Test 2025_01_EXAMPLE initialized\u001b[0m\n"
     ]
    }
   ],
   "source": [
    "test = Test(name='EXAMPLE')"
   ]
  },
  {
   "cell_type": "code",
   "execution_count": 3,
   "metadata": {
    "scrolled": true
   },
   "outputs": [
    {
     "name": "stdout",
     "output_type": "stream",
     "text": [
      "\u001b[38;20m[2025-01-16 16:34:10,973] - scdata - INFO - Loading test...\u001b[0m\n",
      "\u001b[38;20m[2025-01-16 16:34:10,974] - scdata - INFO - Creating path for exporting cached data...\u001b[0m\n",
      "\u001b[38;20m[2025-01-16 16:34:10,974] - scdata - INFO - Cache will be available in: /home/janebeta7/.cache/scdata/processed/2025/01/2025_01_EXAMPLE/cached\u001b[0m\n",
      "\u001b[38;20m[2025-01-16 16:34:10,975] - scdata - INFO - Test load done\u001b[0m\n"
     ]
    },
    {
     "data": {
      "text/plain": [
       "True"
      ]
     },
     "execution_count": 3,
     "metadata": {},
     "output_type": "execute_result"
    }
   ],
   "source": [
    "await test.load()"
   ]
  },
  {
   "cell_type": "markdown",
   "metadata": {},
   "source": [
    "## Simple timeseries plot"
   ]
  },
  {
   "cell_type": "markdown",
   "metadata": {},
   "source": [
    "### Matplotlib"
   ]
  },
  {
   "cell_type": "code",
   "execution_count": 5,
   "metadata": {},
   "outputs": [
    {
     "name": "stdout",
     "output_type": "stream",
     "text": [
      "\u001b[38;20m[2025-01-16 16:35:56,923] - scdata - INFO - Using default options\u001b[0m\n",
      "\u001b[38;20m[2025-01-16 16:35:56,924] - scdata - INFO - Using default formatting\u001b[0m\n",
      "\u001b[38;20m[2025-01-16 16:35:56,926] - scdata - INFO - Preparing data for plot\u001b[0m\n",
      "\u001b[38;20m[2025-01-16 16:35:56,927] - scdata - INFO - Making 1 subplots\u001b[0m\n",
      "\u001b[31;20m[2025-01-16 16:35:56,928] - scdata - ERROR - Device 18366 is not in test (test.py:176)\u001b[0m\n"
     ]
    },
    {
     "ename": "AttributeError",
     "evalue": "'NoneType' object has no attribute 'data'",
     "output_type": "error",
     "traceback": [
      "\u001b[0;31m---------------------------------------------------------------------------\u001b[0m",
      "\u001b[0;31mAttributeError\u001b[0m                            Traceback (most recent call last)",
      "Cell \u001b[0;32mIn[5], line 7\u001b[0m\n\u001b[1;32m      1\u001b[0m traces \u001b[38;5;241m=\u001b[39m {\n\u001b[1;32m      2\u001b[0m             \u001b[38;5;124m\"\u001b[39m\u001b[38;5;124m1\u001b[39m\u001b[38;5;124m\"\u001b[39m: {\u001b[38;5;124m\"\u001b[39m\u001b[38;5;124mdevices\u001b[39m\u001b[38;5;124m\"\u001b[39m: \u001b[38;5;241m18366\u001b[39m,\n\u001b[1;32m      3\u001b[0m                   \u001b[38;5;124m\"\u001b[39m\u001b[38;5;124mchannel\u001b[39m\u001b[38;5;124m\"\u001b[39m: \u001b[38;5;124m\"\u001b[39m\u001b[38;5;124mNOISE_A\u001b[39m\u001b[38;5;124m\"\u001b[39m,\n\u001b[1;32m      4\u001b[0m                   \u001b[38;5;124m\"\u001b[39m\u001b[38;5;124msubplot\u001b[39m\u001b[38;5;124m\"\u001b[39m: \u001b[38;5;241m1\u001b[39m},\n\u001b[1;32m      5\u001b[0m         }\n\u001b[0;32m----> 7\u001b[0m figure \u001b[38;5;241m=\u001b[39m \u001b[43mtest\u001b[49m\u001b[38;5;241;43m.\u001b[39;49m\u001b[43mts_plot\u001b[49m\u001b[43m(\u001b[49m\u001b[43mtraces\u001b[49m\u001b[43m \u001b[49m\u001b[38;5;241;43m=\u001b[39;49m\u001b[43m \u001b[49m\u001b[43mtraces\u001b[49m\u001b[43m)\u001b[49m\n",
      "File \u001b[0;32m~/miniconda3/envs/py311_env/lib/python3.11/site-packages/scdata/test/plot/ts_plot.py:73\u001b[0m, in \u001b[0;36mts_plot\u001b[0;34m(self, **kwargs)\u001b[0m\n\u001b[1;32m     70\u001b[0m         rcParams\u001b[38;5;241m.\u001b[39mupdate({\u001b[38;5;124m'\u001b[39m\u001b[38;5;124mfont.size\u001b[39m\u001b[38;5;124m'\u001b[39m: formatting[\u001b[38;5;124m'\u001b[39m\u001b[38;5;124mfontsize\u001b[39m\u001b[38;5;124m'\u001b[39m]});\n\u001b[1;32m     72\u001b[0m \u001b[38;5;66;03m# Get dataframe\u001b[39;00m\n\u001b[0;32m---> 73\u001b[0m df, subplots \u001b[38;5;241m=\u001b[39m \u001b[43mprepare_data\u001b[49m\u001b[43m(\u001b[49m\u001b[38;5;28;43mself\u001b[39;49m\u001b[43m,\u001b[49m\u001b[43m \u001b[49m\u001b[43mtraces\u001b[49m\u001b[43m,\u001b[49m\u001b[43m \u001b[49m\u001b[43moptions\u001b[49m\u001b[43m)\u001b[49m\n\u001b[1;32m     75\u001b[0m \u001b[38;5;66;03m# If empty, nothing to do here\u001b[39;00m\n\u001b[1;32m     76\u001b[0m \u001b[38;5;28;01mif\u001b[39;00m df \u001b[38;5;129;01mis\u001b[39;00m \u001b[38;5;28;01mNone\u001b[39;00m:\n",
      "File \u001b[0;32m~/miniconda3/envs/py311_env/lib/python3.11/site-packages/scdata/test/plot/plot_tools.py:115\u001b[0m, in \u001b[0;36mprepare_data\u001b[0;34m(test, traces, options)\u001b[0m\n\u001b[1;32m    111\u001b[0m \u001b[38;5;28;01melse\u001b[39;00m: channels \u001b[38;5;241m=\u001b[39m nchans\n\u001b[1;32m    113\u001b[0m \u001b[38;5;28;01mfor\u001b[39;00m channel \u001b[38;5;129;01min\u001b[39;00m channels:\n\u001b[1;32m    114\u001b[0m     \u001b[38;5;66;03m# Check if device is in columns\u001b[39;00m\n\u001b[0;32m--> 115\u001b[0m     \u001b[38;5;28;01mif\u001b[39;00m channel \u001b[38;5;129;01mnot\u001b[39;00m \u001b[38;5;129;01min\u001b[39;00m \u001b[43mtest\u001b[49m\u001b[38;5;241;43m.\u001b[39;49m\u001b[43mget_device\u001b[49m\u001b[43m(\u001b[49m\u001b[43mndev\u001b[49m\u001b[43m)\u001b[49m\u001b[38;5;241;43m.\u001b[39;49m\u001b[43mdata\u001b[49m\u001b[38;5;241m.\u001b[39mcolumns:\n\u001b[1;32m    116\u001b[0m         logger\u001b[38;5;241m.\u001b[39mwarning(\u001b[38;5;124mf\u001b[39m\u001b[38;5;124m'\u001b[39m\u001b[38;5;124mThe device \u001b[39m\u001b[38;5;132;01m{\u001b[39;00mndev\u001b[38;5;132;01m}\u001b[39;00m\u001b[38;5;124m does not contain \u001b[39m\u001b[38;5;132;01m{\u001b[39;00mchannel\u001b[38;5;132;01m}\u001b[39;00m\u001b[38;5;124m. Ignoring\u001b[39m\u001b[38;5;124m'\u001b[39m)\n\u001b[1;32m    117\u001b[0m         \u001b[38;5;28;01mcontinue\u001b[39;00m\n",
      "\u001b[0;31mAttributeError\u001b[0m: 'NoneType' object has no attribute 'data'"
     ]
    },
    {
     "data": {
      "text/plain": [
       "<Figure size 640x480 with 0 Axes>"
      ]
     },
     "metadata": {},
     "output_type": "display_data"
    }
   ],
   "source": [
    "traces = {\n",
    "            \"1\": {\"devices\": 18366,\n",
    "                  \"channel\": \"NOISE_A\",\n",
    "                  \"subplot\": 1},\n",
    "        }\n",
    "\n",
    "figure = test.ts_plot(traces = traces)"
   ]
  },
  {
   "cell_type": "markdown",
   "metadata": {},
   "source": [
    "#### Adding more features"
   ]
  },
  {
   "cell_type": "code",
   "execution_count": null,
   "metadata": {},
   "outputs": [],
   "source": [
    "traces = {\n",
    "            \"1\": {\"devices\": \"all\",\n",
    "                  \"channel\": \"NOISE_A\",\n",
    "                  \"subplot\": 1,\n",
    "                  #\"extras\": ['mean', 'max', 'min'], This is handy when comparing devices,\n",
    "                 },\n",
    "            \"2\": {\"devices\": \"all\",\n",
    "                  \"channel\": \"HUM\",\n",
    "                  \"subplot\": 2},\n",
    "            \"3\": {\"devices\": \"all\",\n",
    "                  \"channel\": \"TEMP\",\n",
    "                  \"subplot\": 3}\n",
    "        }\n",
    "\n",
    "\n",
    "options = {\n",
    "            \"show\": True,\n",
    "            \"frequency\": '1Min',\n",
    "            \"clean_na\": None,\n",
    "            #\"max_date\": '2021-10-20',\n",
    "            #\"min_date\": '2021-10-15'\n",
    "            }\n",
    "\n",
    "formatting = {\"xlabel\": \"Date\",\n",
    "              \"ylabel\": {1: \"Noise (dBA Scale)\", 2: \"Humidity (%rh)\", 3: \"Temperature (degC)\"},\n",
    "              \"yrange\": {1: [0, 90], 2: [400, 1400], 3: [5, 40]},\n",
    "              \"xrange\": {1: ['2021-10-15', '2021-10-20 18:00']},\n",
    "              \"title\": \"Example plot\",\n",
    "              \"sharex\":True,\n",
    "              \"grid\": True,\n",
    "              \"legend\": True,\n",
    "              \"height\": 10,\n",
    "              \"width\": 20,\n",
    "              \"suptitle_factor\": 0.92,\n",
    "              \"style\": \"seaborn-whitegrid\",\n",
    "              \"palette\": \"Accent\",\n",
    "              \"decorators\": {'axvline': ['2021-10-16', '2021-10-18'],\n",
    "                               'xtext': {'2021-10-16 06:00:00': 'Quiet', \n",
    "                                         '2021-10-18 06:00:00': 'Traffic'},\n",
    "                            }\n",
    "              }\n",
    "\n",
    "\n",
    "figure = test.ts_plot(traces = traces, options = options, formatting = formatting);\n",
    "# Save it\n",
    "# figure.savefig('~/Desktop/plot.png', dpi = 300, transparent=False, bbox_inches='tight')"
   ]
  },
  {
   "cell_type": "markdown",
   "metadata": {
    "heading_collapsed": "true",
    "jp-MarkdownHeadingCollapsed": true,
    "tags": []
   },
   "source": [
    "### Plotly\n",
    "\n",
    "Deprecated (don't use)"
   ]
  },
  {
   "cell_type": "code",
   "execution_count": null,
   "metadata": {
    "jupyter": {
     "source_hidden": true
    }
   },
   "outputs": [],
   "source": [
    "traces = {\n",
    "            \"1\": {\"devices\": \"10751\",\n",
    "                  \"channel\": [\"PM_1\", \"PM_25\", \"ADC_48_2\", \"ADC_48_3\"],\n",
    "                  \"subplot\": 1},\n",
    "            \"2\": {\"devices\": \"10751\",\n",
    "                  \"channel\": [\"TEMP\", \"HUM\"],\n",
    "                  \"subplot\": 2}\n",
    "        }\n",
    "\n",
    "options = {\n",
    "            \"show\": True,\n",
    "            \"frequency\": '1H',\n",
    "            \"clean_na\": None,\n",
    "            \"max_date\": '2020-05-13',\n",
    "            \"min_date\": '2020-05-06'\n",
    "            }\n",
    "\n",
    "formatting = {\"xlabel\": \"Date\",\n",
    "              \"ylabel\": {1: \"PM1 (ug/m3)\", 2: \"Noise (dBA Scale)\"},\n",
    "              \"yrange\": {1: [0, 90], 2: [0, 100]},\n",
    "              \"xrange\": {1: ['2020-05-06', '2020-05-13']},\n",
    "              \"title\": \"iplot Example\",\n",
    "              \"sharex\":True,\n",
    "              \"grid\": True,\n",
    "              \"legend\": False,\n",
    "              \"height\": 600,\n",
    "              \"width\": 800,\n",
    "              \"suptitle_factor\": 0.92\n",
    "              }\n",
    "\n",
    "test.ts_iplot(traces = traces);"
   ]
  },
  {
   "cell_type": "code",
   "execution_count": null,
   "metadata": {
    "jupyter": {
     "source_hidden": true
    }
   },
   "outputs": [],
   "source": [
    "traces = {\n",
    "            \"1\": {\"devices\": \"10751\",\n",
    "                  \"channel\": \"PM_1\",\n",
    "                  \"subplot\": 1},\n",
    "            \"3\": {\"devices\": \"10751\",\n",
    "                  \"channel\": \"NOISE_A\",\n",
    "                  \"subplot\": 2}\n",
    "          }\n",
    "\n",
    "options = {\n",
    "            \"show\": True,\n",
    "            \"frequency\": '1H',\n",
    "            \"clean_na\": None,\n",
    "            \"max_date\": '2020-05-13',\n",
    "            \"min_date\": '2020-05-06'\n",
    "            }\n",
    "\n",
    "formatting = {\"xlabel\": \"Date\",\n",
    "              \"ylabel\": {1: \"PM1 (ug/m3)\", 2: \"Noise (dBA Scale)\"},\n",
    "              \"yrange\": {1: [0, 90], 2: [0, 100]},\n",
    "              \"xrange\": {1: ['2020-05-06', '2020-05-13']},\n",
    "              \"title\": \"iplot Example\",\n",
    "              \"sharex\":True,\n",
    "              \"grid\": True,\n",
    "              \"legend\": False,\n",
    "              \"height\": 600,\n",
    "              \"width\": 800,\n",
    "              \"suptitle_factor\": 0.92\n",
    "              }\n",
    "\n",
    "\n",
    "test.ts_iplot(traces = traces, options = options, formatting = formatting);"
   ]
  },
  {
   "cell_type": "markdown",
   "metadata": {},
   "source": [
    "### uPlot (Fast interactive plot)\n",
    "\n",
    "Makes much much faster interactive plots than plotly."
   ]
  },
  {
   "cell_type": "code",
   "execution_count": null,
   "metadata": {},
   "outputs": [],
   "source": [
    "traces = {\n",
    "            \"1\": {\"devices\": 16871,\n",
    "                  \"channel\": \"TEMP\",\n",
    "                  \"subplot\": 1},\n",
    "            \"2\": {\"devices\": 16871,\n",
    "                  \"channel\": \"NOISE_A\",\n",
    "                  \"subplot\": 2},\n",
    "        }\n",
    "\n",
    "height = 400\n",
    "\n",
    "test.ts_uplot(traces = traces, \n",
    "              formatting = {'width':1000, \n",
    "                            'height': height, \n",
    "                            'padding-bottom': height*2,\n",
    "                            'title': 'Temperature', \n",
    "                            'ylabel': {1: 'Temperature (degC)',\n",
    "                                       2: 'Noise (dBA)'}\n",
    "                           }, \n",
    "              options = {'frequency': '1Min', 'html': False})"
   ]
  },
  {
   "cell_type": "markdown",
   "metadata": {},
   "source": [
    "## Scatter plot"
   ]
  },
  {
   "cell_type": "markdown",
   "metadata": {},
   "source": [
    "### Matplotlib"
   ]
  },
  {
   "cell_type": "code",
   "execution_count": null,
   "metadata": {},
   "outputs": [],
   "source": [
    "traces = {\n",
    "            \"1\": {\"devices\": 16871,\n",
    "                  \"channel\": \"HUM\"},\n",
    "            \"2\": {\"devices\": 16871,\n",
    "                  \"channel\": \"TEMP\"}  \n",
    "        }\n",
    "\n",
    "options = {\n",
    "            \"show\": True,\n",
    "            \"frequency\": '1Min',\n",
    "            \"clean_na\": None,\n",
    "            }\n",
    "\n",
    "formatting = {\n",
    "              # \"yrange\": [15, 30],\n",
    "              # \"xrange\": [30, 90],\n",
    "              \"title\": \"Scatter example\",\n",
    "              \"grid\": True,\n",
    "              \"legend\": True,\n",
    "              \"height\": 10,\n",
    "              \"suptitle_factor\": 0.92,\n",
    "              \"style\": \"seaborn-whitegrid\",\n",
    "              \"palette\": \"gray\",\n",
    "              }\n",
    "\n",
    "\n",
    "figure = test.scatter_plot(traces = traces, options = options, formatting = formatting);\n",
    "# figure.savefig('~/Desktop/plot.png', dpi = 300, transparent=False, bbox_inches='tight')"
   ]
  },
  {
   "cell_type": "code",
   "execution_count": null,
   "metadata": {},
   "outputs": [],
   "source": [
    "traces = {\n",
    "            \"1\": {\"devices\": 16871,\n",
    "                  \"channel\": \"TEMP\"},\n",
    "            \"2\": {\"devices\": 16871,\n",
    "                  \"channel\": \"NOISE_A\"}\n",
    "        }\n",
    "\n",
    "options = {\n",
    "            \"show\": True,\n",
    "            \"frequency\": '1H',\n",
    "            \"clean_na\": None,\n",
    "            # \"max_date\": '2019-04-20',\n",
    "            # \"min_date\": '2020-02-01'\n",
    "            }\n",
    "\n",
    "formatting = {\n",
    "                \"yrange\": [10, 40],\n",
    "                #\"xrange\": ['2020-02-01', '2020-02-02'],\n",
    "                \"title\": \"Scatter time example\",\n",
    "                \"grid\": True,\n",
    "                \"legend\": True,\n",
    "                \"suptitle_factor\": 0.92,\n",
    "                \"title_fontsize\": 13,\n",
    "                \"fontsize\": 12,\n",
    "                \"style\": \"seaborn-whitegrid\",\n",
    "                \"palette\": \"gray\",\n",
    "                'ylabel': 'Temperature (degC)'\n",
    "              }\n",
    "\n",
    "\n",
    "figure = test.ts_scatter(traces = traces, options = options, formatting = formatting);\n",
    "#figure.savefig('~/Desktop/plot.png', dpi = 300, transparent=False, bbox_inches='tight')"
   ]
  },
  {
   "cell_type": "markdown",
   "metadata": {},
   "source": [
    "## Heatmap"
   ]
  },
  {
   "cell_type": "markdown",
   "metadata": {},
   "source": [
    "### Matplotlib"
   ]
  },
  {
   "cell_type": "code",
   "execution_count": null,
   "metadata": {},
   "outputs": [],
   "source": [
    "traces = {\n",
    "            \"1\": {\"devices\": 16871,\n",
    "                  \"channel\": \"NOISE_A\"} \n",
    "        }\n",
    "\n",
    "options = {\n",
    "            \"show\": True,\n",
    "            \"frequency\": '1Min',\n",
    "            \"clean_na\": None,\n",
    "            }\n",
    "\n",
    "formatting = {\"title\": \"Temperature Heatmap\",\n",
    "              \"grid\": True,\n",
    "              \"legend\": True,\n",
    "              \"height\": 10,\n",
    "              \"suptitle_factor\": 0.92,\n",
    "              \"style\": \"seaborn-whitegrid\"\n",
    "              }\n",
    "\n",
    "figure = test.heatmap_plot(traces = traces, options = options, formatting = formatting);"
   ]
  },
  {
   "cell_type": "markdown",
   "metadata": {
    "jp-MarkdownHeadingCollapsed": true,
    "tags": []
   },
   "source": [
    "### Plotly\n",
    "\n",
    "Deprecated (don't use)"
   ]
  },
  {
   "cell_type": "code",
   "execution_count": null,
   "metadata": {},
   "outputs": [],
   "source": [
    "traces = {\n",
    "            \"1\": {\"devices\": \"10751\",\n",
    "                  \"channel\": \"GB_2W\"} \n",
    "        }\n",
    "\n",
    "options = {\n",
    "            \"show\": True,\n",
    "            \"frequency\": '1Min',\n",
    "            \"clean_na\": None,\n",
    "            \"max_date\": '2020-11-20',\n",
    "            \"min_date\": '2020-08-05'\n",
    "            }\n",
    "\n",
    "formatting = {\"title\": \"PM Evolution\",\n",
    "              \"grid\": True,\n",
    "              \"legend\": True,\n",
    "              \"height\": 10,\n",
    "              \"suptitle_factor\": 0.92\n",
    "              }\n",
    "\n",
    "figure = test.heatmap_iplot(traces = traces, options = options, formatting = formatting);"
   ]
  },
  {
   "cell_type": "markdown",
   "metadata": {},
   "source": [
    "## Boxplot (to-fix)"
   ]
  },
  {
   "cell_type": "code",
   "execution_count": null,
   "metadata": {},
   "outputs": [],
   "source": [
    "traces = {\n",
    "            \"1\": {\"devices\": 16871,\n",
    "                  \"channel\": \"NOISE_A\"} \n",
    "        }\n",
    "\n",
    "options = {\n",
    "            \"show\": True,\n",
    "            \"frequency\": '1Min',\n",
    "            \"clean_na\": None,\n",
    "            }\n",
    "\n",
    "formatting = {\"title\": \"Noise Box Plot\",\n",
    "              \"grid\": True,\n",
    "              \"legend\": True,\n",
    "              \"height\": 10,\n",
    "              \"suptitle_factor\": 0.92,\n",
    "              \"periods\": {\"dates\": ['2021-10-15', '2021-10-19', None],\n",
    "                          \"labels\": [\"Pre-lockdown\", \"Post-lockdown\"]\n",
    "                         },\n",
    "              }\n",
    "\n",
    "figure = test.box_plot(traces = traces, options = options, formatting = formatting);"
   ]
  },
  {
   "cell_type": "markdown",
   "metadata": {},
   "source": [
    "## More complex plots (to-fix)"
   ]
  },
  {
   "cell_type": "code",
   "execution_count": null,
   "metadata": {},
   "outputs": [],
   "source": [
    "import seaborn as sns\n",
    "import pandas as pd\n",
    "import numpy as np"
   ]
  },
  {
   "cell_type": "code",
   "execution_count": null,
   "metadata": {},
   "outputs": [],
   "source": [
    "%matplotlib inline"
   ]
  },
  {
   "cell_type": "code",
   "execution_count": null,
   "metadata": {},
   "outputs": [],
   "source": [
    "combined_df = pd.concat([test.devices[str(device)].readings for device in test.devices])\n",
    "combined_df['device'] = np.repeat([str(device) for device in test.devices], [len(test.devices[str(device)].readings) for device in test.devices])\n",
    "combined_df.index = pd.to_datetime(combined_df.index, utc=True)\n",
    "combined_df['day_of_week'] = combined_df.index.day_name()\n",
    "\n",
    "def is_business(x):\n",
    "    if x['day_of_week'] in ['Monday', 'Tuesday', 'Wednesday', 'Thursday', 'Friday']: return True\n",
    "    else: return False\n",
    "    \n",
    "combined_df['is_business'] = combined_df.apply(lambda x: is_business(x), axis = 1)\n",
    "combined_df.head(5)"
   ]
  },
  {
   "cell_type": "code",
   "execution_count": null,
   "metadata": {},
   "outputs": [],
   "source": [
    "g = sns.catplot(x=\"is_business\", y=\"NOISE_A\",\n",
    "            col = \"device\", col_wrap=3,\n",
    "            data=combined_df, height=8, aspect=0.8)\n",
    "\n",
    "(g.set_axis_labels(\"\", \"Noise Level (dBA)\")\n",
    "  .set_xticklabels([\"Weekends\", \"Mondays to Fridays\"])\n",
    "# .set(ylim=(0, 80))\n",
    "  .despine(left=True))"
   ]
  },
  {
   "cell_type": "code",
   "execution_count": null,
   "metadata": {},
   "outputs": [],
   "source": []
  }
 ],
 "metadata": {
  "kernelspec": {
   "display_name": "Python 3 (ipykernel)",
   "language": "python",
   "name": "python3"
  },
  "language_info": {
   "codemirror_mode": {
    "name": "ipython",
    "version": 3
   },
   "file_extension": ".py",
   "mimetype": "text/x-python",
   "name": "python",
   "nbconvert_exporter": "python",
   "pygments_lexer": "ipython3",
   "version": "3.11.11"
  }
 },
 "nbformat": 4,
 "nbformat_minor": 4
}
